{
 "cells": [
  {
   "cell_type": "code",
   "execution_count": 1,
   "metadata": {},
   "outputs": [],
   "source": [
    "DOCUMENT = \"\"\"\n",
    "The Elder Scrolls V: Skyrim is an action role-playing video game developed by Bethesda Game Studios \n",
    "and published by Bethesda Softworks. It is the fifth main installment in The Elder Scrolls series, \n",
    "following The Elder Scrolls IV: Oblivion.\n",
    "The game's main story revolves around the player character's quest to defeat Alduin the World-Eater, \n",
    "a dragon who is prophesied to destroy the world. The game is set 200 years after the events of Oblivion \n",
    "and takes place in the fictional province of Skyrim. Over the course of the game, the player completes \n",
    "quests and develops the character by improving skills. The game continues the open-world tradition of \n",
    "its predecessors by allowing the player to travel anywhere in the game world at any time, and to ignore \n",
    "or postpone the main storyline indefinitely.\n",
    "The team opted for a unique and more diverse open world than Oblivion's Imperial Province of Cyrodiil, \n",
    "which game director and executive producer Todd Howard considered less interesting by comparison. \n",
    "The game was released to critical acclaim, with reviewers particularly mentioning the character advancement \n",
    "and setting, and is considered to be one of the greatest video games of all time.\n",
    "\n",
    "\n",
    "The Elder Scrolls V: Skyrim is an action role-playing game, playable from either a first or \n",
    "third-person perspective. The player may freely roam over the land of Skyrim which is an open world \n",
    "environment consisting of wilderness expanses, dungeons, cities, towns, fortresses, and villages. \n",
    "Players may navigate the game world more quickly by riding horses or by utilizing a fast-travel system \n",
    "which allows them to warp to previously discovered locations. The game's main quest can be completed or \n",
    "ignored at the player's preference after the first stage of the quest is finished. However, some quests \n",
    "rely on the main storyline being at least partially completed. Non-player characters (NPCs) populate the \n",
    "world and can be interacted with in a number of ways: the player may engage them in conversation, \n",
    "marry an eligible NPC, kill them or engage in a nonlethal \"brawl\". The player may \n",
    "choose to join factions which are organized groups of NPCs — for example, the Dark Brotherhood, a band \n",
    "of assassins. Each of the factions has an associated quest path to progress through. Each city and town \n",
    "in the game world has jobs that the player can engage in, such as farming.\n",
    "\n",
    "Players have the option to develop their character. At the beginning of the game, players create \n",
    "their character by selecting their sex and choosing between one of several races including humans, \n",
    "orcs, elves, and anthropomorphic cat or lizard-like creatures and then customizing their character's \n",
    "appearance. Over the course of the game, players improve their character's skills which are numerical \n",
    "representations of their ability in certain areas. There are eighteen skills divided evenly among the \n",
    "three schools of combat, magic, and stealth. When players have trained skills enough to meet the \n",
    "required experience, their character levels up. Health is depleted primarily when the player \n",
    "takes damage and the loss of all health results in death. Magicka is depleted by the use of spells, \n",
    "certain poisons and by being struck by lightning-based attacks. Stamina determines the player's \n",
    "effectiveness in combat and is depleted by sprinting, performing heavy \"power attacks\" \n",
    "and being struck by frost-based attacks. Skyrim is the first entry in The Elder Scrolls to \n",
    "include dragons in the game's wilderness. Like other creatures, dragons are generated randomly in \n",
    "the world and will engage in combat with NPCs, creatures and the player. Some dragons may attack \n",
    "cities and towns when in their proximity. The player character can absorb the souls of dragons \n",
    "in order to use powerful spells called \"dragon shouts\" or \"Thu'um\". A regeneration \n",
    "period limits the player's use of shouts in gameplay.\n",
    "\n",
    "Skyrim is set around 200 years after the events of The Elder Scrolls IV: Oblivion, although it is \n",
    "not a direct sequel. The game takes place in Skyrim, a province of the Empire on the continent of \n",
    "Tamriel, amid a civil war between two factions: the Stormcloaks, led by Ulfric Stormcloak, and the \n",
    "Imperial Legion, led by General Tullius. The player character is a Dragonborn, a mortal born with \n",
    "the soul and power of a dragon. Alduin, a large black dragon who returns to the land after being \n",
    "lost in time, serves as the game's primary antagonist. Alduin is the first dragon created by Akatosh, \n",
    "one of the series' gods, and is prophesied to destroy and consume the world.\n",
    "\"\"\""
   ]
  },
  {
   "cell_type": "code",
   "execution_count": 2,
   "metadata": {},
   "outputs": [],
   "source": [
    "import re\n",
    "\n",
    "DOCUMENT = re.sub(r'\\n|\\r', ' ', DOCUMENT)\n",
    "DOCUMENT = re.sub(r' +', ' ', DOCUMENT)\n",
    "DOCUMENT = DOCUMENT.strip()"
   ]
  },
  {
   "cell_type": "code",
   "execution_count": 3,
   "metadata": {},
   "outputs": [
    {
     "name": "stdout",
     "output_type": "stream",
     "text": [
      "The game's main story revolves around the player character's quest to defeat Alduin the World-Eater, a dragon who is prophesied to destroy the world.\n",
      "Over the course of the game, the player completes quests and develops the character by improving skills.\n",
      "The game continues the open-world tradition of its predecessors by allowing the player to travel anywhere in the game world at any time, and to ignore or postpone the main storyline indefinitely.\n",
      "The player may freely roam over the land of Skyrim which is an open world environment consisting of wilderness expanses, dungeons, cities, towns, fortresses, and villages.\n",
      "Each city and town in the game world has jobs that the player can engage in, such as farming.\n",
      "Over the course of the game, players improve their character's skills which are numerical representations of their ability in certain areas.\n",
      "Like other creatures, dragons are generated randomly in the world and will engage in combat with NPCs, creatures and the player.\n"
     ]
    }
   ],
   "source": [
    "from gensim.summarization import summarize\n",
    "\n",
    "print(summarize(DOCUMENT, ratio=0.2, split=False))"
   ]
  },
  {
   "cell_type": "code",
   "execution_count": 4,
   "metadata": {},
   "outputs": [
    {
     "name": "stdout",
     "output_type": "stream",
     "text": [
      "The game's main story revolves around the player character's quest to defeat Alduin the World-Eater, a dragon who is prophesied to destroy the world.\n",
      "Over the course of the game, the player completes quests and develops the character by improving skills.\n",
      "The player may freely roam over the land of Skyrim which is an open world environment consisting of wilderness expanses, dungeons, cities, towns, fortresses, and villages.\n"
     ]
    }
   ],
   "source": [
    "print(summarize(DOCUMENT, word_count=75, split=False))"
   ]
  },
  {
   "cell_type": "code",
   "execution_count": 5,
   "metadata": {},
   "outputs": [
    {
     "data": {
      "application/javascript": [
       "\n",
       "        if (window._pyforest_update_imports_cell) { window._pyforest_update_imports_cell('import nltk'); }\n",
       "    "
      ],
      "text/plain": [
       "<IPython.core.display.Javascript object>"
      ]
     },
     "metadata": {},
     "output_type": "display_data"
    },
    {
     "data": {
      "text/plain": [
       "35"
      ]
     },
     "execution_count": 5,
     "metadata": {},
     "output_type": "execute_result"
    }
   ],
   "source": [
    "sentences = nltk.sent_tokenize(DOCUMENT)\n",
    "len(sentences)"
   ]
  },
  {
   "cell_type": "markdown",
   "metadata": {},
   "source": [
    "\n",
    "This summarization implementation from Gensim is based on a variation of a popular algorithm called TextRank."
   ]
  }
 ],
 "metadata": {
  "kernelspec": {
   "display_name": "Python 3",
   "language": "python",
   "name": "python3"
  },
  "language_info": {
   "codemirror_mode": {
    "name": "ipython",
    "version": 3
   },
   "file_extension": ".py",
   "mimetype": "text/x-python",
   "name": "python",
   "nbconvert_exporter": "python",
   "pygments_lexer": "ipython3",
   "version": "3.7.3"
  }
 },
 "nbformat": 4,
 "nbformat_minor": 4
}
