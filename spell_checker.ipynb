{
 "cells": [
  {
   "cell_type": "code",
   "execution_count": 3,
   "metadata": {},
   "outputs": [
    {
     "name": "stdout",
     "output_type": "stream",
     "text": [
      "Orignal Sentence:  plese corret sentene\n",
      "Corrected sentence:  please correct sentence\n"
     ]
    },
    {
     "data": {
      "text/plain": [
       "TextBlob(\"please correct sentence\")"
      ]
     },
     "execution_count": 3,
     "metadata": {},
     "output_type": "execute_result"
    }
   ],
   "source": [
    "from textblob import TextBlob\n",
    "\n",
    "def spell_corrector(sentence):\n",
    "    tb = TextBlob(sentence)\n",
    "    correct = tb.correct()\n",
    "    print(\"Orignal Sentence: \",sentence)\n",
    "    print(\"Corrected sentence: \",correct)\n",
    "    return correct\n",
    "sen = 'plese corret sentene'\n",
    "spell_corrector(sen)"
   ]
  },
  {
   "cell_type": "code",
   "execution_count": null,
   "metadata": {},
   "outputs": [],
   "source": []
  }
 ],
 "metadata": {
  "kernelspec": {
   "display_name": "Python 3",
   "language": "python",
   "name": "python3"
  },
  "language_info": {
   "codemirror_mode": {
    "name": "ipython",
    "version": 3
   },
   "file_extension": ".py",
   "mimetype": "text/x-python",
   "name": "python",
   "nbconvert_exporter": "python",
   "pygments_lexer": "ipython3",
   "version": "3.7.3"
  }
 },
 "nbformat": 4,
 "nbformat_minor": 4
}
