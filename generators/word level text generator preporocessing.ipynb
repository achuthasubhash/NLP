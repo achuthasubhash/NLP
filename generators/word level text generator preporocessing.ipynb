{
 "cells": [
  {
   "cell_type": "code",
   "execution_count": null,
   "metadata": {},
   "outputs": [],
   "source": [
    "import numpy as np\n",
    "import string\n",
    "from string import maketrans\n",
    "\n",
    "# Read document\n",
    "filename = 'E:\\\\github\\\\my upload\\\\nlp\\\\republic.txt'\n",
    "file = open(filename, 'r')\n",
    "document = file.read()\n",
    "file.close()\n",
    "\n",
    "# Clean text\n",
    "document = document.replace('--', ' ')\n",
    "document = ' '.join(document.split())\n",
    "exclude = set(string.punctuation)\n",
    "document = ''.join(ch for ch in document if ch not in exclude)\n",
    "tokens = document.split(' ')\n",
    "tokens = [word for word in tokens if word.isalpha()]\n",
    "tokens = [word.lower() for word in tokens]\n",
    "print (tokens[:20])\n",
    "print (len(tokens))\n",
    "\n",
    "# Prepare data each sequence of 51 words.\n",
    "length = 51\n",
    "sentences = []\n",
    "for i in range(length, len(tokens)):\n",
    "\tl = ' '.join(tokens[i-length:i])\n",
    "\tsentences.append(l)\n",
    "print (len(sentences))\n",
    "\n",
    "# Save the file\n",
    "filename = 'E:\\\\github\\\\my upload\\\\nlp\\\\rebuplic_preprocessed.txt'\n",
    "file = open(filename, 'w')\n",
    "file.write('\\n'.join(sentences))\n",
    "file.close()"
   ]
  },
  {
   "cell_type": "code",
   "execution_count": null,
   "metadata": {},
   "outputs": [],
   "source": []
  }
 ],
 "metadata": {
  "kernelspec": {
   "display_name": "Python 3",
   "language": "python",
   "name": "python3"
  },
  "language_info": {
   "codemirror_mode": {
    "name": "ipython",
    "version": 3
   },
   "file_extension": ".py",
   "mimetype": "text/x-python",
   "name": "python",
   "nbconvert_exporter": "python",
   "pygments_lexer": "ipython3",
   "version": "3.7.3"
  }
 },
 "nbformat": 4,
 "nbformat_minor": 4
}
