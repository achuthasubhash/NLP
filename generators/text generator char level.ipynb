{
 "cells": [
  {
   "cell_type": "code",
   "execution_count": 1,
   "metadata": {},
   "outputs": [
    {
     "name": "stderr",
     "output_type": "stream",
     "text": [
      "Using TensorFlow backend.\n"
     ]
    }
   ],
   "source": [
    "import numpy as np\n",
    "from keras.models import Sequential\n",
    "from keras.layers import LSTM, Dense, Dropout\n",
    "from keras.utils import np_utils\n",
    "from keras.utils import plot_model"
   ]
  },
  {
   "cell_type": "code",
   "execution_count": 2,
   "metadata": {},
   "outputs": [
    {
     "name": "stdout",
     "output_type": "stream",
     "text": [
      "Length of the data: 144401\n"
     ]
    }
   ],
   "source": [
    "filename = 'E:\\\\github\\\\my upload\\\\nlp\\\\wonderland.txt'\n",
    "data = open(filename, 'r')\n",
    "data = data.read().lower()\n",
    "print (\"Length of the data: \" + str(len(data)))"
   ]
  },
  {
   "cell_type": "code",
   "execution_count": 3,
   "metadata": {},
   "outputs": [
    {
     "name": "stdout",
     "output_type": "stream",
     "text": [
      "Number of unique charaters in the data: 45\n"
     ]
    }
   ],
   "source": [
    "# Find unique characters in the data\n",
    "chars = sorted(list(set(data)))\n",
    "print (\"Number of unique charaters in the data: \" + str(len(chars)))"
   ]
  },
  {
   "cell_type": "code",
   "execution_count": 4,
   "metadata": {},
   "outputs": [],
   "source": [
    "# Map characters to integers\n",
    "char_to_integer = []\n",
    "for integer, char in enumerate(chars):\n",
    "    char_to_integer.append((char, integer))\n",
    "char_to_integer = dict(char_to_integer)"
   ]
  },
  {
   "cell_type": "code",
   "execution_count": 5,
   "metadata": {},
   "outputs": [
    {
     "name": "stdout",
     "output_type": "stream",
     "text": [
      "{'\\n': 0, ' ': 1, '!': 2, '\"': 3, \"'\": 4, '(': 5, ')': 6, '*': 7, ',': 8, '-': 9, '.': 10, '0': 11, '3': 12, ':': 13, ';': 14, '?': 15, '[': 16, ']': 17, '_': 18, 'a': 19, 'b': 20, 'c': 21, 'd': 22, 'e': 23, 'f': 24, 'g': 25, 'h': 26, 'i': 27, 'j': 28, 'k': 29, 'l': 30, 'm': 31, 'n': 32, 'o': 33, 'p': 34, 'q': 35, 'r': 36, 's': 37, 't': 38, 'u': 39, 'v': 40, 'w': 41, 'x': 42, 'y': 43, 'z': 44}\n"
     ]
    }
   ],
   "source": [
    "print (char_to_integer)"
   ]
  },
  {
   "cell_type": "code",
   "execution_count": 6,
   "metadata": {},
   "outputs": [],
   "source": [
    "# Convert X(sequence) and y(one character) into integers\n",
    "X_train = []\n",
    "y_train = []\n",
    "length_of_sequence = 100\n",
    "for i in range(0, (len(data) - length_of_sequence)):\n",
    "    sequence = data[i:i+length_of_sequence]\n",
    "    sequence_int = []\n",
    "    for char in sequence:\n",
    "        sequence_int.append(char_to_integer[char])\n",
    "    X_train.append(sequence_int)    \n",
    "    label = data[i+length_of_sequence]\n",
    "    y_train.append(char_to_integer[label])"
   ]
  },
  {
   "cell_type": "code",
   "execution_count": 7,
   "metadata": {},
   "outputs": [
    {
     "name": "stdout",
     "output_type": "stream",
     "text": [
      "(144301, 100, 1)\n"
     ]
    }
   ],
   "source": [
    "# Reshape X_train and normalize\n",
    "samples = len(X_train)\n",
    "X_train = np.reshape(X_train, (samples, length_of_sequence, 1)) \n",
    "X_train = X_train/float(len(chars))\n",
    "print (X_train.shape)"
   ]
  },
  {
   "cell_type": "code",
   "execution_count": 8,
   "metadata": {},
   "outputs": [
    {
     "name": "stdout",
     "output_type": "stream",
     "text": [
      "(144301, 45)\n"
     ]
    }
   ],
   "source": [
    "# y_train: Integers to one hot vectors\n",
    "y_train = np_utils.to_categorical(y_train)\n",
    "print (y_train.shape)\n"
   ]
  },
  {
   "cell_type": "code",
   "execution_count": null,
   "metadata": {},
   "outputs": [
    {
     "name": "stdout",
     "output_type": "stream",
     "text": [
      "Model: \"sequential_1\"\n",
      "_________________________________________________________________\n",
      "Layer (type)                 Output Shape              Param #   \n",
      "=================================================================\n",
      "lstm_1 (LSTM)                (None, 256)               264192    \n",
      "_________________________________________________________________\n",
      "dropout_1 (Dropout)          (None, 256)               0         \n",
      "_________________________________________________________________\n",
      "dense_1 (Dense)              (None, 45)                11565     \n",
      "=================================================================\n",
      "Total params: 275,757\n",
      "Trainable params: 275,757\n",
      "Non-trainable params: 0\n",
      "_________________________________________________________________\n",
      "Epoch 1/2\n",
      "144301/144301 [==============================] - 1873s 13ms/step - loss: 0.0850 - accuracy: 0.9778\n",
      "Epoch 2/2\n",
      "  6752/144301 [>.............................] - ETA: 29:51 - loss: 0.0809 - accuracy: 0.9779"
     ]
    }
   ],
   "source": [
    "# Model\n",
    "model = Sequential()\n",
    "model.add(LSTM(256, input_shape = (X_train.shape[1], X_train.shape[2])))\n",
    "model.add(Dropout(0.2))\n",
    "model.add(Dense(y_train.shape[1], activation = 'softmax'))\n",
    "model.summary()\n",
    "\n",
    "model.compile(loss = 'binary_crossentropy', optimizer = 'adam', metrics = ['accuracy'])\n",
    "model.fit(X_train, y_train, epochs = 2, batch_size = 32)\n",
    "model.save('chsr_level_gen_LSTM.h5')\n"
   ]
  },
  {
   "cell_type": "code",
   "execution_count": null,
   "metadata": {},
   "outputs": [],
   "source": []
  }
 ],
 "metadata": {
  "kernelspec": {
   "display_name": "Python 3",
   "language": "python",
   "name": "python3"
  },
  "language_info": {
   "codemirror_mode": {
    "name": "ipython",
    "version": 3
   },
   "file_extension": ".py",
   "mimetype": "text/x-python",
   "name": "python",
   "nbconvert_exporter": "python",
   "pygments_lexer": "ipython3",
   "version": "3.7.3"
  }
 },
 "nbformat": 4,
 "nbformat_minor": 4
}
