{
 "cells": [
  {
   "cell_type": "code",
   "execution_count": null,
   "metadata": {},
   "outputs": [],
   "source": [
    "from __future__ import print_function\n",
    "import ipywidgets as widgets\n",
    "from transformers import pipeline"
   ]
  },
  {
   "cell_type": "code",
   "execution_count": null,
   "metadata": {},
   "outputs": [],
   "source": [
    "nlp_sentiment_model = pipeline('sentiment-analysis')"
   ]
  },
  {
   "cell_type": "code",
   "execution_count": null,
   "metadata": {},
   "outputs": [],
   "source": [
    "nlp_sentiment_model('This is an excellent movie! Really nice plot and casting.')"
   ]
  },
  {
   "cell_type": "code",
   "execution_count": null,
   "metadata": {},
   "outputs": [],
   "source": [
    "nlp_sentiment_model('This movie was so NOT good!')"
   ]
  },
  {
   "cell_type": "markdown",
   "metadata": {},
   "source": [
    "Named Entity Recognition"
   ]
  },
  {
   "cell_type": "code",
   "execution_count": null,
   "metadata": {},
   "outputs": [],
   "source": [
    "\n",
    "nlp_token_class = pipeline('ner')"
   ]
  },
  {
   "cell_type": "code",
   "execution_count": null,
   "metadata": {},
   "outputs": [],
   "source": [
    "text = \"\"\"Three more countries have joined an \"international grand committee\" of parliaments, adding to calls for \n",
    "Facebook's boss, Mark Zuckerberg, to give evidence on misinformation to the coalition. Brazil, Latvia and Singapore \n",
    "bring the total to eight different parliaments across the world, with plans to send representatives to London on 27 \n",
    "November with the intention of hearing from Zuckerberg. Since the Cambridge Analytica scandal broke, the Facebook chief \n",
    "has only appeared in front of two legislatures: the American Senate and House of Representatives, and the European parliament. \n",
    "Facebook has consistently rebuffed attempts from others, including the UK and Canadian parliaments, to hear from Zuckerberg. \n",
    "He added that an article in the New York Times on Thursday, in which the paper alleged a pattern of behaviour from Facebook \n",
    "to \"delay, deny and deflect\" negative news stories, \"raises further questions about how recent data breaches were allegedly \n",
    "dealt with within Facebook.\"\n",
    "\"\"\"\n",
    "\n",
    "nlp_token_class(text)"
   ]
  },
  {
   "cell_type": "markdown",
   "metadata": {},
   "source": [
    "Question Answering"
   ]
  },
  {
   "cell_type": "code",
   "execution_count": null,
   "metadata": {},
   "outputs": [],
   "source": [
    "nlp_qa = pipeline('question-answering')"
   ]
  },
  {
   "cell_type": "code",
   "execution_count": 1,
   "metadata": {},
   "outputs": [],
   "source": [
    "context = \"\"\"\n",
    "Coronaviruses are a large family of viruses which may cause illness in animals or humans.  \n",
    "In humans, several coronaviruses are known to cause respiratory infections ranging from the \n",
    "common cold to more severe diseases such as Middle East Respiratory Syndrome (MERS) and Severe Acute Respiratory Syndrome (SARS). \n",
    "The most recently discovered coronavirus causes coronavirus disease COVID-19.\n",
    "COVID-19 is the infectious disease caused by the most recently discovered coronavirus. \n",
    "This new virus and disease were unknown before the outbreak began in Wuhan, China, in December 2019. \n",
    "COVID-19 is now a pandemic affecting many countries globally.\n",
    "The most common symptoms of COVID-19 are fever, dry cough, and tiredness. \n",
    "Other symptoms that are less common and may affect some patients include aches \n",
    "and pains, nasal congestion, headache, conjunctivitis, sore throat, diarrhea, \n",
    "loss of taste or smell or a rash on skin or discoloration of fingers or toes. \n",
    "These symptoms are usually mild and begin gradually. \n",
    "Some people become infected but only have very mild symptoms.\n",
    "Most people (about 80%) recover from the disease without needing hospital treatment. \n",
    "Around 1 out of every 5 people who gets COVID-19 becomes seriously ill and develops difficulty breathing. \n",
    "Older people, and those with underlying medical problems like high blood pressure, heart and lung problems, \n",
    "diabetes, or cancer, are at higher risk of developing serious illness.  \n",
    "However, anyone can catch COVID-19 and become seriously ill.  \n",
    "People of all ages who experience fever and/or  cough associated with difficulty breathing/shortness of breath, \n",
    "chest pain/pressure, or loss of speech or movement should seek medical attention immediately. \n",
    "If possible, it is recommended to call the health care provider or facility first, \n",
    "so the patient can be directed to the right clinic.\n",
    "People can catch COVID-19 from others who have the virus. \n",
    "The disease spreads primarily from person to person through small droplets from the nose or mouth, \n",
    "which are expelled when a person with COVID-19 coughs, sneezes, or speaks. \n",
    "These droplets are relatively heavy, do not travel far and quickly sink to the ground. \n",
    "People can catch COVID-19 if they breathe in these droplets from a person infected with the virus.  \n",
    "This is why it is important to stay at least 1 meter) away from others. \n",
    "These droplets can land on objects and surfaces around the person such as tables, doorknobs and handrails.  \n",
    "People can become infected by touching these objects or surfaces, then touching their eyes, nose or mouth.  \n",
    "This is why it is important to wash your hands regularly with soap and water or clean with alcohol-based hand rub.\n",
    "Practicing hand and respiratory hygiene is important at ALL times and is the best way to protect others and yourself.\n",
    "When possible maintain at least a 1 meter distance between yourself and others. \n",
    "This is especially important if you are standing by someone who is coughing or sneezing.  \n",
    "Since some infected persons may not yet be exhibiting symptoms or their symptoms may be mild, \n",
    "maintaining a physical distance with everyone is a good idea if you are in an area where COVID-19 is circulating. \n",
    "\"\"\""
   ]
  },
  {
   "cell_type": "code",
   "execution_count": null,
   "metadata": {},
   "outputs": [],
   "source": [
    "\n",
    "nlp_qa(context=context, question='What is a coronavirus ?')"
   ]
  },
  {
   "cell_type": "code",
   "execution_count": null,
   "metadata": {},
   "outputs": [],
   "source": [
    "nlp_qa(context=context, question='What is covid-19 ?')"
   ]
  },
  {
   "cell_type": "code",
   "execution_count": null,
   "metadata": {},
   "outputs": [],
   "source": [
    "nlp_qa(context=context, question='What are covid-19 symptoms ?')"
   ]
  },
  {
   "cell_type": "code",
   "execution_count": null,
   "metadata": {},
   "outputs": [],
   "source": [
    "nlp_qa(context=context, question='How does covid-19 spread ?')"
   ]
  },
  {
   "cell_type": "markdown",
   "metadata": {},
   "source": [
    "Text Generation - Mask Filling"
   ]
  },
  {
   "cell_type": "code",
   "execution_count": null,
   "metadata": {},
   "outputs": [],
   "source": [
    "nlp_fill = pipeline('fill-mask')"
   ]
  },
  {
   "cell_type": "code",
   "execution_count": null,
   "metadata": {},
   "outputs": [],
   "source": [
    "nlp_fill('The ship is reaching the ' + nlp_fill.tokenizer.mask_token)"
   ]
  },
  {
   "cell_type": "markdown",
   "metadata": {},
   "source": [
    "Summarization"
   ]
  },
  {
   "cell_type": "code",
   "execution_count": null,
   "metadata": {},
   "outputs": [],
   "source": [
    "summarizer = pipeline('summarization', model='bart-large-cnn', tokenizer='bart-large-cnn')"
   ]
  },
  {
   "cell_type": "code",
   "execution_count": null,
   "metadata": {},
   "outputs": [],
   "source": [
    "\n",
    "BIG_DOC = \"\"\" \n",
    "Coronaviruses are a large family of viruses which may cause illness in animals or humans.  \n",
    "In humans, several coronaviruses are known to cause respiratory infections ranging from the \n",
    "common cold to more severe diseases such as Middle East Respiratory Syndrome (MERS) and Severe Acute Respiratory Syndrome (SARS). \n",
    "The most recently discovered coronavirus causes coronavirus disease COVID-19.\n",
    "COVID-19 is the infectious disease caused by the most recently discovered coronavirus. \n",
    "This new virus and disease were unknown before the outbreak began in Wuhan, China, in December 2019. \n",
    "COVID-19 is now a pandemic affecting many countries globally.\n",
    "The most common symptoms of COVID-19 are fever, dry cough, and tiredness. \n",
    "Other symptoms that are less common and may affect some patients include aches \n",
    "and pains, nasal congestion, headache, conjunctivitis, sore throat, diarrhea, \n",
    "loss of taste or smell or a rash on skin or discoloration of fingers or toes. \n",
    "These symptoms are usually mild and begin gradually. \n",
    "Some people become infected but only have very mild symptoms.\n",
    "Most people (about 80%) recover from the disease without needing hospital treatment. \n",
    "Around 1 out of every 5 people who gets COVID-19 becomes seriously ill and develops difficulty breathing. \n",
    "Older people, and those with underlying medical problems like high blood pressure, heart and lung problems, \n",
    "diabetes, or cancer, are at higher risk of developing serious illness.  \n",
    "However, anyone can catch COVID-19 and become seriously ill.  \n",
    "People of all ages who experience fever and/or  cough associated with difficulty breathing/shortness of breath, \n",
    "chest pain/pressure, or loss of speech or movement should seek medical attention immediately. \n",
    "If possible, it is recommended to call the health care provider or facility first, \n",
    "so the patient can be directed to the right clinic.\n",
    "People can catch COVID-19 from others who have the virus. \n",
    "The disease spreads primarily from person to person through small droplets from the nose or mouth, \n",
    "which are expelled when a person with COVID-19 coughs, sneezes, or speaks. \n",
    "These droplets are relatively heavy, do not travel far and quickly sink to the ground. \n",
    "People can catch COVID-19 if they breathe in these droplets from a person infected with the virus.  \n",
    "This is why it is important to stay at least 1 meter) away from others. \n",
    "These droplets can land on objects and surfaces around the person such as tables, doorknobs and handrails.  \n",
    "People can become infected by touching these objects or surfaces, then touching their eyes, nose or mouth.  \n",
    "This is why it is important to wash your hands regularly with soap and water or clean with alcohol-based hand rub.\n",
    "Practicing hand and respiratory hygiene is important at ALL times and is the best way to protect others and yourself.\n",
    "When possible maintain at least a 1 meter distance between yourself and others. \n",
    "This is especially important if you are standing by someone who is coughing or sneezing.  \n",
    "Since some infected persons may not yet be exhibiting symptoms or their symptoms may be mild, \n",
    "maintaining a physical distance with everyone is a good idea if you are in an area where COVID-19 is circulating. \n",
    "\"\"\"\n",
    "\n",
    "\n",
    "result = summarizer(BIG_DOC)"
   ]
  },
  {
   "cell_type": "code",
   "execution_count": null,
   "metadata": {},
   "outputs": [],
   "source": [
    "import nltk\n",
    "nltk.download('punkt')"
   ]
  },
  {
   "cell_type": "code",
   "execution_count": null,
   "metadata": {},
   "outputs": [],
   "source": [
    "summary = result[0]['summary_text']\n",
    "print('\\n'.join(nltk.sent_tokenize(summary)))"
   ]
  },
  {
   "cell_type": "markdown",
   "metadata": {},
   "source": [
    "Translation"
   ]
  },
  {
   "cell_type": "code",
   "execution_count": null,
   "metadata": {},
   "outputs": [],
   "source": [
    "# English to French\n",
    "translator = pipeline('translation_en_to_fr')"
   ]
  },
  {
   "cell_type": "code",
   "execution_count": null,
   "metadata": {},
   "outputs": [],
   "source": [
    "translator(\"The quick brown fox jumped over the lazy dog\")"
   ]
  },
  {
   "cell_type": "code",
   "execution_count": null,
   "metadata": {},
   "outputs": [],
   "source": [
    "# English to German\n",
    "translator = pipeline('translation_en_to_de')"
   ]
  },
  {
   "cell_type": "code",
   "execution_count": null,
   "metadata": {},
   "outputs": [],
   "source": [
    "translator(\"The quick brown fox jumped over the lazy dog\")"
   ]
  },
  {
   "cell_type": "markdown",
   "metadata": {},
   "source": [
    " Text Generation"
   ]
  },
  {
   "cell_type": "code",
   "execution_count": null,
   "metadata": {},
   "outputs": [],
   "source": [
    "\n",
    "text_generator = pipeline(\"text-generation\", model='gpt2', tokenizer='gpt2')"
   ]
  },
  {
   "cell_type": "code",
   "execution_count": null,
   "metadata": {},
   "outputs": [],
   "source": [
    "result = text_generator(\"Today is going to be \")"
   ]
  },
  {
   "cell_type": "code",
   "execution_count": null,
   "metadata": {},
   "outputs": [],
   "source": [
    "print(result[0]['generated_text'])"
   ]
  },
  {
   "cell_type": "markdown",
   "metadata": {},
   "source": [
    "Projection - Features Extraction"
   ]
  },
  {
   "cell_type": "code",
   "execution_count": null,
   "metadata": {},
   "outputs": [],
   "source": [
    "import numpy as np\n",
    "nlp_features = pipeline('feature-extraction')\n",
    "output = nlp_features('This is a short sentence')\n",
    "print('Shape:', np.array(output).shape)   # (Samples, Tokens, Vector Size)\n",
    "np.array(output)"
   ]
  }
 ],
 "metadata": {
  "kernelspec": {
   "display_name": "Python 3",
   "language": "python",
   "name": "python3"
  },
  "language_info": {
   "codemirror_mode": {
    "name": "ipython",
    "version": 3
   },
   "file_extension": ".py",
   "mimetype": "text/x-python",
   "name": "python",
   "nbconvert_exporter": "python",
   "pygments_lexer": "ipython3",
   "version": "3.7.3"
  }
 },
 "nbformat": 4,
 "nbformat_minor": 4
}
