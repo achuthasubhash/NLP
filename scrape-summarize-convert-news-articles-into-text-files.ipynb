{
 "cells": [
  {
   "cell_type": "code",
   "execution_count": 2,
   "metadata": {},
   "outputs": [],
   "source": [
    "from newspaper import Article\n",
    "import nltk"
   ]
  },
  {
   "cell_type": "code",
   "execution_count": 3,
   "metadata": {},
   "outputs": [
    {
     "name": "stdout",
     "output_type": "stream",
     "text": [
      "[nltk_data] Downloading package punkt to\n",
      "[nltk_data]     C:\\Users\\DELL\\AppData\\Roaming\\nltk_data...\n",
      "[nltk_data]   Package punkt is already up-to-date!\n"
     ]
    },
    {
     "data": {
      "text/plain": [
       "True"
      ]
     },
     "execution_count": 3,
     "metadata": {},
     "output_type": "execute_result"
    }
   ],
   "source": [
    "nltk.download('punkt') # tokenize the sentences in order to be used for NLP."
   ]
  },
  {
   "cell_type": "code",
   "execution_count": 4,
   "metadata": {},
   "outputs": [],
   "source": [
    "url= 'https://timesofindia.indiatimes.com/business/india-business/rbi-reduces-repo-rate-rate-by-75-basis-points-to-4-4-key-points/articleshow/74840356.cms'"
   ]
  },
  {
   "cell_type": "code",
   "execution_count": 5,
   "metadata": {},
   "outputs": [],
   "source": [
    "article = Article(url, language=\"en\") # en for English "
   ]
  },
  {
   "cell_type": "code",
   "execution_count": 6,
   "metadata": {},
   "outputs": [],
   "source": [
    "article.download() \n",
    "article.parse() \n",
    "article.nlp() "
   ]
  },
  {
   "cell_type": "markdown",
   "metadata": {},
   "source": [
    "The article is now scraped and downloaded. We can print useful information on the console."
   ]
  },
  {
   "cell_type": "code",
   "execution_count": 7,
   "metadata": {},
   "outputs": [
    {
     "name": "stdout",
     "output_type": "stream",
     "text": [
      "Article Title:\n",
      "RBI rate cut: RBI reduces repo rate by 75 basis points to 4.4%: Key points\n",
      "\n",
      "\n",
      "Article Text:\n",
      "RBI governor Shaktikanta Das (File photo)\n",
      "\n",
      "Here are key points from Das's announcements:\n",
      "\n",
      "*\n",
      "\n",
      "*\n",
      "\n",
      "More on Covid-19\n",
      "\n",
      "NEW DELHI: RBI governor Shaktikanta Das on Friday announced a series of steps to boost liquidity in a stimulus worth 3.2% of GDP to counter the economic impact of the coronavirus outbreak.All lending institutions can allow three-month moratorium on EMI payments.Deferment on loan and interest repayments will not be classified as defaults and will not impact credit history of borrowers.* Policy repo rate has been reduced by 75 basis points from 5.15% to 4.4%.* Reverse repo rate reduced by 90 basis points to 4%.* Monetary Policy meet scheduled for March 31-April 3 was advanced to March 25-27.* Monetary policy committee voted 4:2 majority to cut repo rate by 75 basis points.* Reverse repo rate cut more so that banks are incentivised to lend, RBI governor said.* Cash Reserve Ratio (CRR) of all banks have been reduced by 100 basis points to 3 per cent of net demand and time liabilities with effect from the fortnight beginning March 28 for a period of 1 year.* RBI to inject liquidity worth Rs 3.74 lakh crore into the system.* Banking system in India safe; deposits safe in private bank; public should not resort to panic withdrawal, Das said.* Monetary policy committee refrained from giving out growth, inflation outlook for coming fiscal on uncertain outlook.* India has locked down economic activity and financial markets are under severe stress.* Global slowdown can deepen with adverse implications for the country, Das said.* Slump in crude oil prices upside for India; foodgrain prices may soften further on back of record production, RBI governor said.* COVID-19 related volatility in stock market has impacted share prices of banks as well resulting in some panic withdrawal of deposits from a few private sector banks.* It would be fallacious to link share prices to the safety of deposits. Depositors of commercial banks including private sector banks need not worry on the safety of their funds, the RBI governor said.* RBI governor said all instruments -- conventional and unconventional -- are on table to support financial stability and revive growth.* Macroeconomic fundamentals are stronger than that in aftermath of 2008 financial market crisis: Shaktikanta DasIn Video: RBI reduces repo rate by 75 basis points to 4.4%\n",
      "\n",
      "\n",
      "Article Summary:\n",
      "* Policy repo rate has been reduced by 75 basis points from 5.15% to 4.4%.\n",
      "* Reverse repo rate reduced by 90 basis points to 4%.\n",
      "* Monetary policy committee voted 4:2 majority to cut repo rate by 75 basis points.\n",
      "* RBI governor said all instruments -- conventional and unconventional -- are on table to support financial stability and revive growth.\n",
      "* Macroeconomic fundamentals are stronger than that in aftermath of 2008 financial market crisis: Shaktikanta DasIn Video: RBI reduces repo rate by 75 basis points to 4.4%\n",
      "\n",
      "\n",
      "Article Keywords:\n",
      "['banks', 'cut', 'reduces', '75', 'prices', 'das', 'basis', '44', 'rbi', 'repo', 'rate', 'governor', 'points', 'policy', 'key']\n"
     ]
    }
   ],
   "source": [
    "print(\"Article Title:\") \n",
    "print(article.title) #prints the title of the article\n",
    "print(\"\\n\") \n",
    "print(\"Article Text:\") \n",
    "print(article.text) #prints the entire text of the article\n",
    "print(\"\\n\") \n",
    "print(\"Article Summary:\") \n",
    "print(article.summary) #prints the summary of the article\n",
    "print(\"\\n\") \n",
    "print(\"Article Keywords:\")\n",
    "print(article.keywords) #prints the keywords of the article"
   ]
  },
  {
   "cell_type": "markdown",
   "metadata": {},
   "source": [
    "The above result can be written in a text file. The following lines of codes are used to write tt into a text file"
   ]
  },
  {
   "cell_type": "code",
   "execution_count": 8,
   "metadata": {},
   "outputs": [],
   "source": [
    "file1=open(\"NewsFile.txt\", \"w+\")\n",
    "file1.write(\"Title:\\n\")\n",
    "file1.write(article.title)\n",
    "file1.write(\"\\n\\nArticle Text:\\n\")\n",
    "file1.write(article.text)\n",
    "file1.write(\"\\n\\nArticle Summary:\\n\")\n",
    "file1.write(article.summary)\n",
    "file1.write(\"\\n\\n\\nArticle Keywords:\\n\")\n",
    "keywords='\\n'.join(article.keywords)\n",
    "file1.write(keywords)\n",
    "file1.close()"
   ]
  },
  {
   "cell_type": "code",
   "execution_count": null,
   "metadata": {},
   "outputs": [],
   "source": []
  }
 ],
 "metadata": {
  "kernelspec": {
   "display_name": "Python 3",
   "language": "python",
   "name": "python3"
  },
  "language_info": {
   "codemirror_mode": {
    "name": "ipython",
    "version": 3
   },
   "file_extension": ".py",
   "mimetype": "text/x-python",
   "name": "python",
   "nbconvert_exporter": "python",
   "pygments_lexer": "ipython3",
   "version": "3.7.3"
  }
 },
 "nbformat": 4,
 "nbformat_minor": 4
}
