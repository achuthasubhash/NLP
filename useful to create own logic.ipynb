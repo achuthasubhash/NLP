{
 "cells": [
  {
   "cell_type": "code",
   "execution_count": 6,
   "metadata": {},
   "outputs": [
    {
     "name": "stdout",
     "output_type": "stream",
     "text": [
      "Model: \"model_6\"\n",
      "__________________________________________________________________________________________________\n",
      "Layer (type)                    Output Shape         Param #     Connected to                     \n",
      "==================================================================================================\n",
      "input_11 (InputLayer)           (None, 64, 64, 3)    0                                            \n",
      "__________________________________________________________________________________________________\n",
      "input_12 (InputLayer)           (None, 32, 32, 3)    0                                            \n",
      "__________________________________________________________________________________________________\n",
      "conv2d_21 (Conv2D)              (None, 62, 62, 32)   896         input_11[0][0]                   \n",
      "__________________________________________________________________________________________________\n",
      "conv2d_23 (Conv2D)              (None, 30, 30, 32)   896         input_12[0][0]                   \n",
      "__________________________________________________________________________________________________\n",
      "max_pooling2d_21 (MaxPooling2D) (None, 31, 31, 32)   0           conv2d_21[0][0]                  \n",
      "__________________________________________________________________________________________________\n",
      "max_pooling2d_23 (MaxPooling2D) (None, 15, 15, 32)   0           conv2d_23[0][0]                  \n",
      "__________________________________________________________________________________________________\n",
      "conv2d_22 (Conv2D)              (None, 29, 29, 16)   4624        max_pooling2d_21[0][0]           \n",
      "__________________________________________________________________________________________________\n",
      "conv2d_24 (Conv2D)              (None, 13, 13, 16)   4624        max_pooling2d_23[0][0]           \n",
      "__________________________________________________________________________________________________\n",
      "max_pooling2d_22 (MaxPooling2D) (None, 14, 14, 16)   0           conv2d_22[0][0]                  \n",
      "__________________________________________________________________________________________________\n",
      "max_pooling2d_24 (MaxPooling2D) (None, 6, 6, 16)     0           conv2d_24[0][0]                  \n",
      "__________________________________________________________________________________________________\n",
      "flatten_11 (Flatten)            (None, 3136)         0           max_pooling2d_22[0][0]           \n",
      "__________________________________________________________________________________________________\n",
      "flatten_12 (Flatten)            (None, 576)          0           max_pooling2d_24[0][0]           \n",
      "__________________________________________________________________________________________________\n",
      "concatenate_6 (Concatenate)     (None, 3712)         0           flatten_11[0][0]                 \n",
      "                                                                 flatten_12[0][0]                 \n",
      "__________________________________________________________________________________________________\n",
      "dense_16 (Dense)                (None, 10)           37130       concatenate_6[0][0]              \n",
      "__________________________________________________________________________________________________\n",
      "dense_17 (Dense)                (None, 10)           110         dense_16[0][0]                   \n",
      "__________________________________________________________________________________________________\n",
      "dense_18 (Dense)                (None, 1)            11          dense_17[0][0]                   \n",
      "==================================================================================================\n",
      "Total params: 48,291\n",
      "Trainable params: 48,291\n",
      "Non-trainable params: 0\n",
      "__________________________________________________________________________________________________\n"
     ]
    }
   ],
   "source": [
    "# Multiple Inputs Model\n",
    "from keras.models import Model\n",
    "from keras.layers import Input, Dense, Flatten\n",
    "from keras.utils import plot_model\n",
    "from keras.layers.convolutional import Conv2D\n",
    "from keras.layers.pooling import MaxPooling2D\n",
    "from keras.layers.merge import concatenate\n",
    "\n",
    "visible1 = Input((64,64,3))\n",
    "conv11 = Conv2D(32, kernel_size = 3, activation = 'relu')(visible1)\n",
    "pool11 = MaxPooling2D(pool_size = (2,2))(conv11)\n",
    "conv12 = Conv2D(16, kernel_size = 3, activation = 'relu')(pool11)\n",
    "pool12 = MaxPooling2D(pool_size = (2,2))(conv12)\n",
    "flat1 = Flatten()(pool12)\n",
    "\n",
    "visible2 = Input((32,32,3))\n",
    "conv21 = Conv2D(32, kernel_size = 3, activation = 'relu')(visible2)\n",
    "pool21 = MaxPooling2D(pool_size = (2,2))(conv21)\n",
    "conv22 = Conv2D(16, kernel_size = 3, activation = 'relu')(pool21)\n",
    "pool22 = MaxPooling2D(pool_size = (2,2))(conv22)\n",
    "flat2 = Flatten()(pool22)\n",
    "\n",
    "merge = concatenate([flat1, flat2])\n",
    "\n",
    "hidden1 = Dense(10, activation = 'relu')(merge)\n",
    "hidden2 = Dense(10, activation = 'relu')(hidden1)\n",
    "output = Dense(1, activation = 'sigmoid')(hidden2)\n",
    "\n",
    "model = Model(inputs = [visible1, visible2], outputs = output)\n",
    "model.summary()\n"
   ]
  },
  {
   "cell_type": "code",
   "execution_count": null,
   "metadata": {},
   "outputs": [],
   "source": []
  }
 ],
 "metadata": {
  "kernelspec": {
   "display_name": "Python 3",
   "language": "python",
   "name": "python3"
  },
  "language_info": {
   "codemirror_mode": {
    "name": "ipython",
    "version": 3
   },
   "file_extension": ".py",
   "mimetype": "text/x-python",
   "name": "python",
   "nbconvert_exporter": "python",
   "pygments_lexer": "ipython3",
   "version": "3.7.3"
  }
 },
 "nbformat": 4,
 "nbformat_minor": 4
}
